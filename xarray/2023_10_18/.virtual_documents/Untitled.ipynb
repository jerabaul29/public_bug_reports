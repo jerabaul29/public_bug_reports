import xarray as xr
import numpy as np


xr.__version__


data = np.array([[1, 2, 3], [4, 5, 6]])
lat = [10, 20]
lon = [120, 130, 140]


data_xr = xr.DataArray(data, coords={'lat':lat, 'lon':lon}, dims=['lat', 'lon'])


data_xr


# ok interpolation: within
data_xr.interp(lat=15, lon=125)


# not ok interpolation: outside
# this is correctly reported as NaN
data_xr.interp(lat=5, lon=125)


data_xr.interp(lat=5, lon=125, method="nearest")


data_xr.interp(lat=5, lon=125, method="linear")



